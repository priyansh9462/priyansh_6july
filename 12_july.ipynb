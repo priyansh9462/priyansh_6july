{
  "nbformat": 4,
  "nbformat_minor": 0,
  "metadata": {
    "colab": {
      "provenance": [],
      "authorship_tag": "ABX9TyOxQZL3notmP4L8yPsJpGxd",
      "include_colab_link": true
    },
    "kernelspec": {
      "name": "python3",
      "display_name": "Python 3"
    },
    "language_info": {
      "name": "python"
    }
  },
  "cells": [
    {
      "cell_type": "markdown",
      "metadata": {
        "id": "view-in-github",
        "colab_type": "text"
      },
      "source": [
        "<a href=\"https://colab.research.google.com/github/priyansh9462/priyansh_6july/blob/main/12_july.ipynb\" target=\"_parent\"><img src=\"https://colab.research.google.com/assets/colab-badge.svg\" alt=\"Open In Colab\"/></a>"
      ]
    },
    {
      "cell_type": "code",
      "execution_count": null,
      "metadata": {
        "colab": {
          "base_uri": "https://localhost:8080/"
        },
        "id": "g7MZNcoIzZIx",
        "outputId": "1ace7cc9-7791-4ecc-b5b0-492e17e4ae45"
      },
      "outputs": [
        {
          "output_type": "stream",
          "name": "stdout",
          "text": [
            "{99, 20, 'hey', 88, 10, 30}\n"
          ]
        }
      ],
      "source": [
        "myset={10,20,30,\"hey\",10,10,10,99}\n",
        "myset.add(88)        # for adding any input in the set\n",
        "print(myset)"
      ]
    },
    {
      "cell_type": "code",
      "source": [
        "myset={10,20,30,\"hey\",10,10,10,99}\n",
        "myset.add(88)        # for remove any input in the set\n",
        "print(myset)"
      ],
      "metadata": {
        "colab": {
          "base_uri": "https://localhost:8080/"
        },
        "id": "7g6kpuypz2MA",
        "outputId": "732f843c-8474-4ec9-ea40-ccd2e2ed03da"
      },
      "execution_count": null,
      "outputs": [
        {
          "output_type": "stream",
          "name": "stdout",
          "text": [
            "{99, 'hey', 10, 30}\n"
          ]
        }
      ]
    },
    {
      "cell_type": "code",
      "source": [],
      "metadata": {
        "id": "OVlHZrJx0l6Z"
      },
      "execution_count": null,
      "outputs": []
    },
    {
      "cell_type": "code",
      "source": [
        "myset={10,20,30,\"hey\",10,10,10,99}\n",
        "myset.discard(88)        # for removing any input in the set\n",
        "print(myset)\n",
        "myset.discard(88)        #it doesn't give error even number is removed fron set"
      ],
      "metadata": {
        "colab": {
          "base_uri": "https://localhost:8080/"
        },
        "id": "otYWp0TC0CBC",
        "outputId": "258621ae-dc1e-4b35-d4fd-c338586199d5"
      },
      "execution_count": null,
      "outputs": [
        {
          "output_type": "stream",
          "name": "stdout",
          "text": [
            "{99, 20, 'hey', 10, 30}\n"
          ]
        }
      ]
    },
    {
      "cell_type": "code",
      "source": [
        "myset={10,20,30,\"hey\",10,10,10,99}\n",
        "myset.remove(88)        # for removing any input in the set\n",
        "print(myset)"
      ],
      "metadata": {
        "id": "kmdZAykr0nWy"
      },
      "execution_count": null,
      "outputs": []
    },
    {
      "cell_type": "code",
      "source": [
        "myset={10,20,30,\"hey\",10,10,10,99}\n",
        "mysetb={20,10,12,14}\n",
        "myset.union(mysetb)  #combinig set"
      ],
      "metadata": {
        "colab": {
          "base_uri": "https://localhost:8080/"
        },
        "id": "FoDYDeiz0spx",
        "outputId": "094e351e-3b53-4bea-9462-04a8717611bc"
      },
      "execution_count": null,
      "outputs": [
        {
          "output_type": "execute_result",
          "data": {
            "text/plain": [
              "{10, 12, 14, 20, 30, 99, 'hey'}"
            ]
          },
          "metadata": {},
          "execution_count": 5
        }
      ]
    },
    {
      "cell_type": "code",
      "source": [
        "#function                       # function is the block of code which is declared or defined only once then used in condition\n",
        "#block of code => task/functionality\n",
        "for i in range(0,4):            # once declared the condition, then again its not needed to represent the condition repeatly like loop\n",
        "    print(\"i\")"
      ],
      "metadata": {
        "colab": {
          "base_uri": "https://localhost:8080/"
        },
        "id": "--A3RmxW05WG",
        "outputId": "6735b060-fd45-4c1d-879a-c1a87e81c44c"
      },
      "execution_count": null,
      "outputs": [
        {
          "output_type": "stream",
          "name": "stdout",
          "text": [
            "i\n",
            "i\n",
            "i\n",
            "i\n"
          ]
        }
      ]
    },
    {
      "cell_type": "code",
      "source": [
        "'''\n",
        "void main(){                              #\n",
        "  statement\n",
        "}\n",
        "'''\n",
        "def msg():\n",
        "    print(\"hello user\")\n"
      ],
      "metadata": {
        "id": "R5WpYmMd1nTd"
      },
      "execution_count": null,
      "outputs": []
    },
    {
      "cell_type": "code",
      "source": [
        "msg()\n",
        "msg()\n",
        "msg()"
      ],
      "metadata": {
        "colab": {
          "base_uri": "https://localhost:8080/"
        },
        "id": "j0PW_Axa16yw",
        "outputId": "c1dc1d62-caad-4d5d-8f53-6db4cbd00959"
      },
      "execution_count": null,
      "outputs": [
        {
          "output_type": "stream",
          "name": "stdout",
          "text": [
            "hello user\n",
            "hello user\n",
            "hello user\n"
          ]
        }
      ]
    },
    {
      "cell_type": "code",
      "source": [
        "def msg(x):\n",
        "    print(\"hello user\",x)        # here function ud defined now we have to give command then its show output"
      ],
      "metadata": {
        "id": "VGQtmUhv2uNH"
      },
      "execution_count": null,
      "outputs": []
    },
    {
      "cell_type": "code",
      "source": [
        "msg(10)"
      ],
      "metadata": {
        "colab": {
          "base_uri": "https://localhost:8080/"
        },
        "id": "EjY02c952xgj",
        "outputId": "db199190-6339-431d-cf79-8a962755450e"
      },
      "execution_count": null,
      "outputs": [
        {
          "output_type": "stream",
          "name": "stdout",
          "text": [
            "hello user 10\n"
          ]
        }
      ]
    },
    {
      "cell_type": "code",
      "source": [
        "msg(\"tushar\")        #accepting the value\n",
        "msg(\"priyansh\")\n",
        "#value => arguement"
      ],
      "metadata": {
        "colab": {
          "base_uri": "https://localhost:8080/"
        },
        "id": "LYQa1meA3GNK",
        "outputId": "00d6f102-4fb9-4979-c490-b8e37b6dc153"
      },
      "execution_count": null,
      "outputs": [
        {
          "output_type": "stream",
          "name": "stdout",
          "text": [
            "hello user tushar\n",
            "hello user priyansh\n"
          ]
        }
      ]
    },
    {
      "cell_type": "code",
      "source": [
        "def sumfuc(x,y):\n",
        "    print(x+y)\n",
        "    sumfunc(10,20)\n",
        "    sumfuc(15,55)"
      ],
      "metadata": {
        "id": "hVtbxQl43iuQ"
      },
      "execution_count": null,
      "outputs": []
    },
    {
      "cell_type": "code",
      "source": [
        "def func(x1):\n",
        "    print(\"X1 :\",x1)       #x1 local variable (used in function inside only)\n",
        "\n",
        "#outside\n",
        "x2=100900                  # here x2 is global variable (variable that can be use everywhere)\n",
        "func(x2)"
      ],
      "metadata": {
        "colab": {
          "base_uri": "https://localhost:8080/"
        },
        "id": "oUeH0qqR4NZ6",
        "outputId": "d81996b1-d2c3-41a6-b588-a5694421ec49"
      },
      "execution_count": null,
      "outputs": [
        {
          "output_type": "stream",
          "name": "stdout",
          "text": [
            "X1 : 100900\n"
          ]
        }
      ]
    },
    {
      "cell_type": "markdown",
      "source": [
        "integer tuple and string if they are changed then it will make new memory for the changed value . this is know as immutable data type"
      ],
      "metadata": {
        "id": "5rjvasmJ5o4Z"
      }
    },
    {
      "cell_type": "code",
      "source": [
        "def func(x1):\n",
        "    x2=100900\n",
        "    print(\"Inside function x2 :\",x2)\n",
        "\n",
        "    #outside\n",
        "    x2=1300\n",
        "    func(x2)\n",
        "    print(\"outside\",x2)"
      ],
      "metadata": {
        "id": "f0SzcDUZ4tCa"
      },
      "execution_count": null,
      "outputs": []
    },
    {
      "cell_type": "code",
      "source": [
        "def func(x):\n",
        "    print(\"Inside\",x,id(x))\n",
        "    x=10\n",
        "    print(\"change outside\",x,id(x))\n",
        "    x1=20\n",
        "    print(\"Outside\",x1,id(x1))\n",
        "    func(x1)\n"
      ],
      "metadata": {
        "id": "R1HcxP_a6mGe"
      },
      "execution_count": null,
      "outputs": []
    },
    {
      "cell_type": "code",
      "source": [
        "def employee(eid, ename):\n",
        "    print(f\"eid : {eid} ename : {ename}\")\n",
        "\n",
        "#required arguement =(no of value=no. of variable)\n",
        "    employee(10)"
      ],
      "metadata": {
        "id": "XGSoscoU68aF"
      },
      "execution_count": null,
      "outputs": []
    },
    {
      "cell_type": "code",
      "source": [
        "def employee(eid, ename):\n",
        "    print(f\"eid : {eid} ename : {ename}\")\n",
        "\n",
        "#position argument\n",
        "employee(\"naina\",10)"
      ],
      "metadata": {
        "colab": {
          "base_uri": "https://localhost:8080/"
        },
        "id": "ZAEMYVHU84p7",
        "outputId": "427c3f50-9355-4b8e-828a-25a2f45dafe7"
      },
      "execution_count": null,
      "outputs": [
        {
          "output_type": "stream",
          "name": "stdout",
          "text": [
            "eid : naina ename : 10\n"
          ]
        }
      ]
    },
    {
      "cell_type": "code",
      "source": [
        "def employee(eid, ename):\n",
        "    print(f\"eid : {eid} ename : {ename}\")\n",
        "\n",
        "#keyword argument\n",
        "employee(ename=\"naina\",eid=10)"
      ],
      "metadata": {
        "colab": {
          "base_uri": "https://localhost:8080/"
        },
        "id": "UKURlfPC8Am_",
        "outputId": "89d54b10-ba67-4bf5-b926-531eee8ac577"
      },
      "execution_count": null,
      "outputs": [
        {
          "output_type": "stream",
          "name": "stdout",
          "text": [
            "eid : 10 ename : naina\n"
          ]
        }
      ]
    },
    {
      "cell_type": "code",
      "source": [
        "#Variable Length argument\n",
        "def employee(*detail):\n",
        "    print(detail,type(detail))\n",
        "\n",
        "employee(10,20,30)\n",
        "employee()"
      ],
      "metadata": {
        "colab": {
          "base_uri": "https://localhost:8080/"
        },
        "id": "2QzlvjPK9ZTh",
        "outputId": "d7710703-3a57-4eb7-e367-d9c1081e2c18"
      },
      "execution_count": null,
      "outputs": [
        {
          "output_type": "stream",
          "name": "stdout",
          "text": [
            "(10, 20, 30) <class 'tuple'>\n",
            "() <class 'tuple'>\n"
          ]
        }
      ]
    },
    {
      "cell_type": "code",
      "source": [
        "# Lambda function (unnamed)\n",
        "# or annymous function\n",
        "def square(x):\n",
        "    print(x*x)\n",
        "\n"
      ],
      "metadata": {
        "id": "VOX1CJiH-l8N"
      },
      "execution_count": null,
      "outputs": []
    },
    {
      "cell_type": "code",
      "source": [
        "#Lambda parameter : expression\n",
        "regex = lambda x: x*x\n",
        "regex(20)"
      ],
      "metadata": {
        "colab": {
          "base_uri": "https://localhost:8080/"
        },
        "id": "MzJt-URm-5Jk",
        "outputId": "df4de5e7-ffe7-4da4-ea2f-7a1686185e01"
      },
      "execution_count": null,
      "outputs": [
        {
          "output_type": "execute_result",
          "data": {
            "text/plain": [
              "400"
            ]
          },
          "metadata": {},
          "execution_count": 52
        }
      ]
    },
    {
      "cell_type": "code",
      "source": [
        "# map , filter\n",
        "def square(num):\n",
        "    return num**2\n",
        "mylist =[\"hey\",\"hello\"]\n",
        "list(map(len , mylist))"
      ],
      "metadata": {
        "colab": {
          "base_uri": "https://localhost:8080/"
        },
        "id": "KknwvBZj_frt",
        "outputId": "a0b5a580-5833-48af-eb21-e6a330388f53"
      },
      "execution_count": null,
      "outputs": [
        {
          "output_type": "execute_result",
          "data": {
            "text/plain": [
              "[3, 5]"
            ]
          },
          "metadata": {},
          "execution_count": 46
        }
      ]
    },
    {
      "cell_type": "code",
      "source": [
        "# map , filter\n",
        "def square(num):\n",
        "    return num**2\n",
        "mylist =[10,20,30,40]        #len for length\n",
        "list(map(square , mylist))"
      ],
      "metadata": {
        "colab": {
          "base_uri": "https://localhost:8080/"
        },
        "id": "ffRCCYNT_wqC",
        "outputId": "30d50407-0529-4045-eea5-dd6407f65a14"
      },
      "execution_count": null,
      "outputs": [
        {
          "output_type": "execute_result",
          "data": {
            "text/plain": [
              "[100, 400, 900, 1600]"
            ]
          },
          "metadata": {},
          "execution_count": 49
        }
      ]
    },
    {
      "cell_type": "code",
      "source": [
        "#another way by using lambda\n",
        "list(map( lambda num : num**2 , mylist))"
      ],
      "metadata": {
        "colab": {
          "base_uri": "https://localhost:8080/"
        },
        "id": "JyzQ342ABAwV",
        "outputId": "3cccea6a-205f-414a-c227-37c39c80a74b"
      },
      "execution_count": null,
      "outputs": [
        {
          "output_type": "execute_result",
          "data": {
            "text/plain": [
              "[100, 400, 900, 1600]"
            ]
          },
          "metadata": {},
          "execution_count": 48
        }
      ]
    },
    {
      "cell_type": "code",
      "source": [
        "#Assignment"
      ],
      "metadata": {
        "id": "PybJQt0VHiWM"
      },
      "execution_count": null,
      "outputs": []
    },
    {
      "cell_type": "code",
      "source": [
        "#swap two numbers\n",
        "def swap(a,b):\n",
        "    a,b=b,a\n",
        "    return a,b\n",
        "\n",
        "a=10\n",
        "b=20\n",
        "print(\"before a =\",a, \"b =\",b )\n",
        "print(swap(a,b))\n"
      ],
      "metadata": {
        "colab": {
          "base_uri": "https://localhost:8080/"
        },
        "id": "J0Z6_PEgJjnB",
        "outputId": "2dd18bc9-e5cf-47e0-c636-f4350dcd496d"
      },
      "execution_count": null,
      "outputs": [
        {
          "output_type": "stream",
          "name": "stdout",
          "text": [
            "before a = 10 b = 20\n",
            "(20, 10)\n"
          ]
        }
      ]
    },
    {
      "cell_type": "code",
      "source": [
        "# extract each digit from an integer in the reverse order\n",
        "def num (n):\n",
        "  return [int(i) for i in str(n)[::-1]]\n",
        "\n",
        "n=2004\n",
        "print(num(n))"
      ],
      "metadata": {
        "colab": {
          "base_uri": "https://localhost:8080/"
        },
        "id": "GC8AH55CJrXp",
        "outputId": "3f582e60-d9f0-40b4-f1b1-74d03dee2662"
      },
      "execution_count": null,
      "outputs": [
        {
          "output_type": "stream",
          "name": "stdout",
          "text": [
            "[4, 0, 0, 2]\n"
          ]
        }
      ]
    },
    {
      "cell_type": "code",
      "source": [
        "# sum of 3 digit\n",
        "def sum (a,b,c):\n",
        "  return a+b+c\n",
        "a=10\n",
        "b=20\n",
        "c=30\n",
        "print(sum(a,b,c))"
      ],
      "metadata": {
        "id": "RDq8RaycJyO-",
        "colab": {
          "base_uri": "https://localhost:8080/"
        },
        "outputId": "728632ef-8300-4cef-eab9-d2ba343bfaee"
      },
      "execution_count": null,
      "outputs": [
        {
          "output_type": "stream",
          "name": "stdout",
          "text": [
            "60\n"
          ]
        }
      ]
    },
    {
      "cell_type": "code",
      "source": [
        "#sum of square of given numbers\n",
        "def sum(a,b,c):\n",
        "  return a**2+b**2+c**2\n",
        "a=10\n",
        "b=20\n",
        "c=30\n",
        "print(sum(a,b,c))"
      ],
      "metadata": {
        "id": "wEj8piS0R2hw",
        "colab": {
          "base_uri": "https://localhost:8080/"
        },
        "outputId": "391ea089-dd75-4377-e6f0-beb387cb63c9"
      },
      "execution_count": null,
      "outputs": [
        {
          "output_type": "stream",
          "name": "stdout",
          "text": [
            "1400\n"
          ]
        }
      ]
    },
    {
      "cell_type": "code",
      "source": [
        "# Findout the the given value is armstrong number or not\n",
        "def armstrong(n):\n",
        "    num = str(n)\n",
        "    num_digit = len(num)\n",
        "    sum_of_digits = 0\n",
        "    for digit in num:\n",
        "       sum_of_digits += (int(digit) ** num_digit)\n",
        "    return sum_of_digits == n\n",
        "\n",
        "n = int(input(\"Enter a number: \"))\n",
        "if armstrong(n):\n",
        "    print(f\"{n} is an Armstrong number.\")\n",
        "else:\n",
        "    print(f\"{n} is not an Armstrong number.\")\n"
      ],
      "metadata": {
        "id": "K_O-DuAvR6CI",
        "colab": {
          "base_uri": "https://localhost:8080/"
        },
        "outputId": "f7a4e064-e5f7-4ee1-de31-8a32e1587b4f"
      },
      "execution_count": null,
      "outputs": [
        {
          "output_type": "stream",
          "name": "stdout",
          "text": [
            "Enter a number: 5\n",
            "5 is an Armstrong number.\n"
          ]
        }
      ]
    },
    {
      "cell_type": "code",
      "source": [
        "#float number with 2 decimal places using print()\n",
        "n = float(input(\"Enter a number:\"))\n",
        "print(f\"{n:.2f}\")"
      ],
      "metadata": {
        "id": "OUNvHRagR9GT"
      },
      "execution_count": null,
      "outputs": []
    },
    {
      "cell_type": "code",
      "source": [
        "#all factors of a given number provided by the user.\n",
        "def num(n):\n",
        "  result = []\n",
        "  for i in range (1,n+1):\n",
        "    if n%i==0:\n",
        "      result.append(i)\n",
        "  return result\n",
        "n=int(input(\"Enter a number:\"))\n",
        "print(num(n))"
      ],
      "metadata": {
        "id": "9v-XI_OwSHMW"
      },
      "execution_count": null,
      "outputs": []
    },
    {
      "cell_type": "code",
      "source": [
        "# Accept a list of 5 float numbers as an input from the user\n",
        "def num(n):\n",
        "  num_str=len(n)\n",
        "  num_list=[]\n",
        "  for i in n:\n",
        "    num_list.append(i)\n",
        "  return num_list\n",
        "n=12.5,13.5,14.5,15.5,16.5\n",
        "print(num(n))"
      ],
      "metadata": {
        "id": "Wpa_yJfHSK9R"
      },
      "execution_count": null,
      "outputs": []
    },
    {
      "cell_type": "code",
      "source": [
        "#find the volume of the cylinder. Also find the cost when ,when the\n",
        "#cost of 1litre milk is 40Rs.\n",
        "def volume(r,h):\n",
        "  c=40\n",
        "  v=(22/7)*r*r*h*c\n",
        "  return v\n",
        "r=10\n",
        "h=20\n",
        "print(volume(r,h),\"Rs\")\n"
      ],
      "metadata": {
        "id": "Px5tUBScSN52"
      },
      "execution_count": null,
      "outputs": []
    },
    {
      "cell_type": "code",
      "source": [],
      "metadata": {
        "id": "G0ooZp9dSQp9"
      },
      "execution_count": null,
      "outputs": []
    },
    {
      "cell_type": "markdown",
      "source": [
        "ASSIGNMENT CMPLETED"
      ],
      "metadata": {
        "id": "WpmfPKVYScC0"
      }
    },
    {
      "cell_type": "markdown",
      "source": [
        "16 july"
      ],
      "metadata": {
        "id": "QvxG8egIYy1y"
      }
    },
    {
      "cell_type": "code",
      "source": [
        "def func():\n",
        "    print(\"hello\")\n",
        "x=func\n",
        "x()\n",
        "\n",
        "#first class function"
      ],
      "metadata": {
        "colab": {
          "base_uri": "https://localhost:8080/"
        },
        "id": "RyQaPFSLY19b",
        "outputId": "c7f33855-ad52-41a0-c38d-cce20b09dff7"
      },
      "execution_count": 2,
      "outputs": [
        {
          "output_type": "stream",
          "name": "stdout",
          "text": [
            "hello\n"
          ]
        }
      ]
    },
    {
      "cell_type": "code",
      "source": [
        "lambda x : \"hello\"    # it gives function name"
      ],
      "metadata": {
        "colab": {
          "base_uri": "https://localhost:8080/"
        },
        "id": "gAbMJKhFZlH6",
        "outputId": "d2652ab8-9823-4c73-f7b6-717d4d72b494"
      },
      "execution_count": 3,
      "outputs": [
        {
          "output_type": "execute_result",
          "data": {
            "text/plain": [
              "<function __main__.<lambda>(x)>"
            ]
          },
          "metadata": {},
          "execution_count": 3
        }
      ]
    },
    {
      "cell_type": "code",
      "source": [
        "out = lambda x : \"hello\"\n",
        "out(10)"
      ],
      "metadata": {
        "colab": {
          "base_uri": "https://localhost:8080/",
          "height": 35
        },
        "id": "HMm4M9slZxMW",
        "outputId": "f2e0c9b3-c3a4-4904-a30d-5ea87893deeb"
      },
      "execution_count": 5,
      "outputs": [
        {
          "output_type": "execute_result",
          "data": {
            "text/plain": [
              "'hello'"
            ],
            "application/vnd.google.colaboratory.intrinsic+json": {
              "type": "string"
            }
          },
          "metadata": {},
          "execution_count": 5
        }
      ]
    },
    {
      "cell_type": "code",
      "source": [
        "list1 = [\"hey\",\"hello\",]\n",
        "map(len,list1)    #generator"
      ],
      "metadata": {
        "colab": {
          "base_uri": "https://localhost:8080/"
        },
        "id": "OMs5hOaFaC4L",
        "outputId": "749f7382-07ef-4c9e-eb57-d1e9d7314dc2"
      },
      "execution_count": 7,
      "outputs": [
        {
          "output_type": "execute_result",
          "data": {
            "text/plain": [
              "<map at 0x7c2dec10df60>"
            ]
          },
          "metadata": {},
          "execution_count": 7
        }
      ]
    },
    {
      "cell_type": "code",
      "source": [
        "list1 = [\"hey\",\"hello\",]\n",
        "list(map(len,list1))    #generator"
      ],
      "metadata": {
        "colab": {
          "base_uri": "https://localhost:8080/"
        },
        "id": "4zhrbFGEadRz",
        "outputId": "67396009-522f-407e-d494-47462f899044"
      },
      "execution_count": 9,
      "outputs": [
        {
          "output_type": "execute_result",
          "data": {
            "text/plain": [
              "[3, 5]"
            ]
          },
          "metadata": {},
          "execution_count": 9
        }
      ]
    },
    {
      "cell_type": "code",
      "source": [
        "[('hey', 1), ('hello', 1)]\n"
      ],
      "metadata": {
        "id": "QUP4V7p5arjY"
      },
      "execution_count": null,
      "outputs": []
    },
    {
      "cell_type": "code",
      "source": [
        "# function"
      ],
      "metadata": {
        "id": "UdVVYrBLbCIM"
      },
      "execution_count": null,
      "outputs": []
    },
    {
      "cell_type": "code",
      "source": [
        "def func(num):\n",
        "    print(\"cake\",num)\n",
        "\n",
        "# call function\n",
        "func(100)"
      ],
      "metadata": {
        "colab": {
          "base_uri": "https://localhost:8080/"
        },
        "id": "lteXS02hbRvb",
        "outputId": "633d2ad7-dcdf-4231-be8e-5c9ec66dc341"
      },
      "execution_count": 11,
      "outputs": [
        {
          "output_type": "stream",
          "name": "stdout",
          "text": [
            "cake 100\n"
          ]
        }
      ]
    },
    {
      "cell_type": "code",
      "source": [
        "def func(num):\n",
        "    print(\"cake\",num)\n",
        "    return \"100\"\n",
        "\n",
        "# call function\n",
        "out =func(100)         #stored in function\n",
        "print(out)"
      ],
      "metadata": {
        "colab": {
          "base_uri": "https://localhost:8080/"
        },
        "id": "r0T9jwSxbvAD",
        "outputId": "d9299b30-3450-4b99-ac73-21edbf1d7fc2"
      },
      "execution_count": 16,
      "outputs": [
        {
          "output_type": "stream",
          "name": "stdout",
          "text": [
            "cake 100\n",
            "100\n"
          ]
        }
      ]
    },
    {
      "cell_type": "code",
      "source": [
        "#multiple return\n",
        "def func(num):\n",
        "    print(\"cake\",num)\n",
        "    return \"200\"\n",
        "    return 500            #return means you are exiting to the function after that anything else are write outside is not checked and never executed\n",
        "\n",
        "# call function\n",
        "out =func(100)\n",
        "print(out)\n"
      ],
      "metadata": {
        "colab": {
          "base_uri": "https://localhost:8080/"
        },
        "id": "26t2F-DBcYqD",
        "outputId": "09a38210-c31b-4fde-9771-88df71c90e93"
      },
      "execution_count": 17,
      "outputs": [
        {
          "output_type": "stream",
          "name": "stdout",
          "text": [
            "cake 100\n",
            "200\n"
          ]
        }
      ]
    },
    {
      "cell_type": "code",
      "source": [
        "#FILE handling -->\n",
        "#mechanism => file task\n",
        "#read / write       operations are performed+\n",
        "#?\n",
        "print(\"hello\")"
      ],
      "metadata": {
        "colab": {
          "base_uri": "https://localhost:8080/"
        },
        "id": "5ePiFHdCcybZ",
        "outputId": "6bfa6c89-5727-41ee-9d71-d51083cea3f6"
      },
      "execution_count": 18,
      "outputs": [
        {
          "output_type": "stream",
          "name": "stdout",
          "text": [
            "hello\n"
          ]
        }
      ]
    },
    {
      "cell_type": "code",
      "source": [],
      "metadata": {
        "id": "rbTKSUHjc7q7"
      },
      "execution_count": null,
      "outputs": []
    }
  ]
}